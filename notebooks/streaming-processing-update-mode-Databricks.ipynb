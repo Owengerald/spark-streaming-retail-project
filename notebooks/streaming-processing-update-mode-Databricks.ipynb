{
 "cells": [
  {
   "cell_type": "code",
   "execution_count": 0,
   "metadata": {
    "application/vnd.databricks.v1+cell": {
     "cellMetadata": {
      "byteLimit": 2048000,
      "rowLimit": 10000
     },
     "inputWidgets": {},
     "nuid": "0242bb83-006f-4bb1-acfe-6f916678ce54",
     "showTitle": false,
     "title": ""
    }
   },
   "outputs": [
    {
     "output_type": "execute_result",
     "data": {
      "text/html": [
       "\n",
       "            <div>\n",
       "                <p><b>SparkSession - hive</b></p>\n",
       "                \n",
       "        <div>\n",
       "            <p><b>SparkContext</b></p>\n",
       "\n",
       "            <p><a href=\"/?o=6040859588639581#setting/sparkui/0312-203339-orxivntk/driver-2653249686168365657\">Spark UI</a></p>\n",
       "\n",
       "            <dl>\n",
       "              <dt>Version</dt>\n",
       "                <dd><code>v3.4.1</code></dd>\n",
       "              <dt>Master</dt>\n",
       "                <dd><code>local[*, 4]</code></dd>\n",
       "              <dt>AppName</dt>\n",
       "                <dd><code>Databricks Shell</code></dd>\n",
       "            </dl>\n",
       "        </div>\n",
       "        \n",
       "            </div>\n",
       "        "
      ],
      "text/plain": [
       "<pyspark.sql.session.SparkSession at 0x7f7e547b7dc0>"
      ]
     },
     "execution_count": 1,
     "metadata": {},
     "output_type": "execute_result"
    }
   ],
   "source": [
    "spark"
   ]
  },
  {
   "cell_type": "code",
   "execution_count": 0,
   "metadata": {
    "application/vnd.databricks.v1+cell": {
     "cellMetadata": {
      "byteLimit": 2048000,
      "rowLimit": 10000
     },
     "inputWidgets": {},
     "nuid": "eb11ec02-3055-4f4e-be3c-ca71dacee8be",
     "showTitle": false,
     "title": ""
    }
   },
   "outputs": [],
   "source": [
    "from pyspark.sql.functions import *"
   ]
  },
  {
   "cell_type": "code",
   "execution_count": 0,
   "metadata": {
    "application/vnd.databricks.v1+cell": {
     "cellMetadata": {
      "byteLimit": 2048000,
      "rowLimit": 10000
     },
     "inputWidgets": {},
     "nuid": "d1138b26-1df8-42f9-9d99-5e4bd14f5021",
     "showTitle": false,
     "title": ""
    }
   },
   "outputs": [],
   "source": [
    "orders_schema = \"order_id long,customer_id long,customer_fname string,customer_lname string,city string,state string,pincode long,line_items array<struct<order_item_id: long,order_item_product_id: long,order_item_quantity: long,order_item_product_price: float,order_item_subtotal: float>>\""
   ]
  },
  {
   "cell_type": "code",
   "execution_count": 0,
   "metadata": {
    "application/vnd.databricks.v1+cell": {
     "cellMetadata": {
      "byteLimit": 2048000,
      "rowLimit": 10000
     },
     "inputWidgets": {},
     "nuid": "cb8284f5-c525-4236-9422-d1fa5ba2b7fb",
     "showTitle": false,
     "title": ""
    }
   },
   "outputs": [
    {
     "output_type": "execute_result",
     "data": {
      "text/plain": [
       "True"
      ]
     },
     "execution_count": 3,
     "metadata": {},
     "output_type": "execute_result"
    }
   ],
   "source": [
    "dbutils.fs.mkdirs(\"dbfs:/FileStore/streaming_input/input1\")"
   ]
  },
  {
   "cell_type": "code",
   "execution_count": 0,
   "metadata": {
    "application/vnd.databricks.v1+cell": {
     "cellMetadata": {
      "byteLimit": 2048000,
      "rowLimit": 10000
     },
     "inputWidgets": {},
     "nuid": "49fcb194-38b9-44f8-b34b-9e99a23ebb37",
     "showTitle": false,
     "title": ""
    }
   },
   "outputs": [],
   "source": [
    "orders_df = spark \\\n",
    ".readStream \\\n",
    ".format(\"json\") \\\n",
    ".schema(orders_schema) \\\n",
    ".option(\"path\",\"dbfs:/FileStore/streaming_input/input1\") \\\n",
    ".load()"
   ]
  },
  {
   "cell_type": "code",
   "execution_count": 0,
   "metadata": {
    "application/vnd.databricks.v1+cell": {
     "cellMetadata": {
      "byteLimit": 2048000,
      "rowLimit": 10000
     },
     "inputWidgets": {},
     "nuid": "5932b8dc-2975-4107-a685-d17b69339c76",
     "showTitle": false,
     "title": ""
    }
   },
   "outputs": [],
   "source": [
    "orders_df.createOrReplaceTempView(\"orders\")\n"
   ]
  },
  {
   "cell_type": "code",
   "execution_count": 0,
   "metadata": {
    "application/vnd.databricks.v1+cell": {
     "cellMetadata": {
      "byteLimit": 2048000,
      "rowLimit": 10000
     },
     "inputWidgets": {},
     "nuid": "6524970a-d957-4b0b-bd15-e5aceedc3527",
     "showTitle": false,
     "title": ""
    }
   },
   "outputs": [],
   "source": [
    "exploded_orders = spark.sql(\"\"\"select order_id,customer_id,city,state,\n",
    "pincode,explode(line_items) lines from orders\"\"\")"
   ]
  },
  {
   "cell_type": "code",
   "execution_count": 0,
   "metadata": {
    "application/vnd.databricks.v1+cell": {
     "cellMetadata": {
      "byteLimit": 2048000,
      "rowLimit": 10000
     },
     "inputWidgets": {},
     "nuid": "bb777b9c-d0bf-4b00-beb0-619805e5e963",
     "showTitle": false,
     "title": ""
    }
   },
   "outputs": [],
   "source": [
    "exploded_orders.createOrReplaceTempView(\"exploded_orders\")"
   ]
  },
  {
   "cell_type": "code",
   "execution_count": 0,
   "metadata": {
    "application/vnd.databricks.v1+cell": {
     "cellMetadata": {
      "byteLimit": 2048000,
      "rowLimit": 10000
     },
     "inputWidgets": {},
     "nuid": "b66d73f2-a8a5-4c91-a861-740149e1d9c4",
     "showTitle": false,
     "title": ""
    }
   },
   "outputs": [],
   "source": [
    "flattened_orders = spark.sql(\"\"\"select order_id, customer_id, city, state, pincode, \n",
    "lines.order_item_id as item_id, lines.order_item_product_id as product_id,\n",
    "lines.order_item_quantity as quantity,lines.order_item_product_price as price,\n",
    "lines.order_item_subtotal as subtotal from exploded_orders\"\"\")"
   ]
  },
  {
   "cell_type": "code",
   "execution_count": 0,
   "metadata": {
    "application/vnd.databricks.v1+cell": {
     "cellMetadata": {
      "byteLimit": 2048000,
      "rowLimit": 10000
     },
     "inputWidgets": {},
     "nuid": "adc44164-8d45-4611-ad85-204822715bfd",
     "showTitle": false,
     "title": ""
    }
   },
   "outputs": [],
   "source": [
    "flattened_orders.createOrReplaceTempView(\"orders_flattened\")"
   ]
  },
  {
   "cell_type": "code",
   "execution_count": 0,
   "metadata": {
    "application/vnd.databricks.v1+cell": {
     "cellMetadata": {
      "byteLimit": 2048000,
      "rowLimit": 10000
     },
     "inputWidgets": {},
     "nuid": "3421f2b0-c637-4dba-a4d2-f8ee320407ff",
     "showTitle": false,
     "title": ""
    }
   },
   "outputs": [],
   "source": [
    "aggregated_orders = spark.sql(\"\"\"select customer_id, approx_count_distinct(order_id) as orders_placed, \n",
    "count(item_id) as products_purchased,sum(subtotal) as amount_spent \n",
    "from orders_flattened group by customer_id\"\"\")"
   ]
  },
  {
   "cell_type": "code",
   "execution_count": 0,
   "metadata": {
    "application/vnd.databricks.v1+cell": {
     "cellMetadata": {
      "byteLimit": 2048000,
      "rowLimit": 10000
     },
     "inputWidgets": {},
     "nuid": "d64a9d05-c16d-4961-a7ca-8d0b1a3d6405",
     "showTitle": false,
     "title": ""
    }
   },
   "outputs": [],
   "source": [
    "def myfunction(orders_result,batch_id):\n",
    "    orders_result.createOrReplaceTempView(\"orders_result\")\n",
    "    merge_statement = \"\"\"merge into orders_final_result t using orders_result s\n",
    "    on t.customer_id == s.customer_id\n",
    "    when matched then\n",
    "    update set t.products_purchased = s.products_purchased, t.orders_placed = s.orders_placed,\n",
    "    t.amount_spent = s.amount_spent\n",
    "    when not matched then\n",
    "    insert *\n",
    "    \"\"\"\n",
    "\n",
    "    orders_result._jdf.sparkSession().sql(merge_statement)\n",
    "\n"
   ]
  },
  {
   "cell_type": "code",
   "execution_count": 0,
   "metadata": {
    "application/vnd.databricks.v1+cell": {
     "cellMetadata": {
      "byteLimit": 2048000,
      "rowLimit": 10000
     },
     "inputWidgets": {},
     "nuid": "0ff632fa-544a-4e83-8782-7cce223d9e61",
     "showTitle": false,
     "title": ""
    }
   },
   "outputs": [],
   "source": [
    "streaming_query = aggregated_orders \\\n",
    ".writeStream \\\n",
    ".format(\"delta\") \\\n",
    ".outputMode(\"update\") \\\n",
    ".option(\"checkpointLocation\",\"checkpointdir108\") \\\n",
    ".foreachBatch(myfunction) \\\n",
    ".start()\n"
   ]
  },
  {
   "cell_type": "code",
   "execution_count": 0,
   "metadata": {
    "application/vnd.databricks.v1+cell": {
     "cellMetadata": {
      "byteLimit": 2048000,
      "rowLimit": 10000
     },
     "inputWidgets": {},
     "nuid": "7e77f9c5-6ebe-4e16-a3fe-77ad1457b065",
     "showTitle": false,
     "title": ""
    }
   },
   "outputs": [
    {
     "output_type": "execute_result",
     "data": {
      "text/plain": [
       "DataFrame[]"
      ]
     },
     "execution_count": 28,
     "metadata": {},
     "output_type": "execute_result"
    }
   ],
   "source": [
    "spark.sql(\"create table orders_final_result (customer_id long, orders_placed long, products_purchased long, amount_spent float)\")"
   ]
  },
  {
   "cell_type": "code",
   "execution_count": 0,
   "metadata": {
    "application/vnd.databricks.v1+cell": {
     "cellMetadata": {
      "byteLimit": 2048000,
      "rowLimit": 10000
     },
     "inputWidgets": {},
     "nuid": "0dfc5b0f-147f-4f59-8cc0-54c59f8dbf38",
     "showTitle": false,
     "title": ""
    }
   },
   "outputs": [
    {
     "output_type": "stream",
     "name": "stdout",
     "output_type": "stream",
     "text": [
      "+-----------+-------------+------------------+------------+\n|customer_id|orders_placed|products_purchased|amount_spent|\n+-----------+-------------+------------------+------------+\n|        256|            1|                 3|      579.98|\n|      11318|            1|                 5|     1129.86|\n|       8827|            1|                 4|   699.85004|\n|      11599|            2|                 5|   1109.9501|\n+-----------+-------------+------------------+------------+\n\n"
     ]
    }
   ],
   "source": [
    "spark.sql(\"select * from orders_final_result\").show()"
   ]
  },
  {
   "cell_type": "code",
   "execution_count": 0,
   "metadata": {
    "application/vnd.databricks.v1+cell": {
     "cellMetadata": {
      "byteLimit": 2048000,
      "rowLimit": 10000
     },
     "inputWidgets": {},
     "nuid": "6f4478fc-83d1-4751-bbc5-b8c3fc1f6b83",
     "showTitle": false,
     "title": ""
    }
   },
   "outputs": [
    {
     "output_type": "execute_result",
     "data": {
      "text/plain": [
       "{'id': 'c75d11ca-5a62-4402-90c0-7b4668b95209',\n",
       " 'runId': '4bdf0b36-333b-4daa-ac54-0be264c75edc',\n",
       " 'name': None,\n",
       " 'timestamp': '2024-03-12T22:46:34.703Z',\n",
       " 'batchId': 3,\n",
       " 'numInputRows': 0,\n",
       " 'inputRowsPerSecond': 0.0,\n",
       " 'processedRowsPerSecond': 0.0,\n",
       " 'durationMs': {'latestOffset': 10, 'triggerExecution': 10},\n",
       " 'stateOperators': [{'operatorName': 'stateStoreSave',\n",
       "   'numRowsTotal': 4,\n",
       "   'numRowsUpdated': 0,\n",
       "   'allUpdatesTimeMs': 1196,\n",
       "   'numRowsRemoved': 0,\n",
       "   'allRemovalsTimeMs': 0,\n",
       "   'commitTimeMs': 24803,\n",
       "   'memoryUsedBytes': 89544,\n",
       "   'numRowsDroppedByWatermark': 0,\n",
       "   'numShufflePartitions': 200,\n",
       "   'numStateStoreInstances': 200,\n",
       "   'customMetrics': {'loadedMapCacheHitCount': 800,\n",
       "    'loadedMapCacheMissCount': 0,\n",
       "    'stateOnCurrentVersionSizeBytes': 23296}}],\n",
       " 'sources': [{'description': 'FileStreamSource[dbfs:/FileStore/streaming_input/input1]',\n",
       "   'startOffset': {'logOffset': 2},\n",
       "   'endOffset': {'logOffset': 2},\n",
       "   'latestOffset': None,\n",
       "   'numInputRows': 0,\n",
       "   'inputRowsPerSecond': 0.0,\n",
       "   'processedRowsPerSecond': 0.0}],\n",
       " 'sink': {'description': 'ForeachBatchSink', 'numOutputRows': -1}}"
      ]
     },
     "execution_count": 37,
     "metadata": {},
     "output_type": "execute_result"
    }
   ],
   "source": [
    "streaming_query."
   ]
  }
 ],
 "metadata": {
  "application/vnd.databricks.v1+notebook": {
   "dashboards": [],
   "language": "python",
   "notebookMetadata": {
    "pythonIndentUnit": 4
   },
   "notebookName": "update-mode-demo",
   "widgets": {}
  }
 },
 "nbformat": 4,
 "nbformat_minor": 0
}
