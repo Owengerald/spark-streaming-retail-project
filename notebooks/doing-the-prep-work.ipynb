{
 "cells": [
  {
   "cell_type": "code",
   "execution_count": 1,
   "id": "2538ae36",
   "metadata": {},
   "outputs": [],
   "source": [
    "from pyspark.sql.functions import *\n",
    "from pyspark.sql import SparkSession\n",
    "\n",
    "spark = SparkSession.builder \\\n",
    "        .appName(\"generating input data\") \\\n",
    "        .config(\"spark.sql.shuffle.partitions\",3) \\\n",
    "        .master(\"local[2]\") \\\n",
    "        .getOrCreate()"
   ]
  },
  {
   "cell_type": "code",
   "execution_count": 2,
   "id": "65ada071",
   "metadata": {},
   "outputs": [],
   "source": [
    "orders_schema = \"order_id long, order_date string, customer_id long, order_status string\""
   ]
  },
  {
   "cell_type": "code",
   "execution_count": 11,
   "id": "50e388a8",
   "metadata": {},
   "outputs": [],
   "source": [
    "orders_df = spark.read \\\n",
    ".format(\"csv\") \\\n",
    ".option(\"header\", \"true\") \\\n",
    ".schema(orders_schema) \\\n",
    ".load(\"../data/retail_db/orders/\")"
   ]
  },
  {
   "cell_type": "code",
   "execution_count": 13,
   "id": "f14d4fc2",
   "metadata": {},
   "outputs": [],
   "source": [
    "orders_df.createOrReplaceTempView(\"orders\")"
   ]
  },
  {
   "cell_type": "code",
   "execution_count": 14,
   "id": "e7a0183c",
   "metadata": {},
   "outputs": [],
   "source": [
    "order_items_schema = \"order_item_id long,order_item_order_id long,order_item_product_id long,order_item_quantity long,order_item_subtotal float,order_item_product_price float\""
   ]
  },
  {
   "cell_type": "code",
   "execution_count": 17,
   "id": "5166081f",
   "metadata": {},
   "outputs": [],
   "source": [
    "order_items_df = spark.read \\\n",
    ".format(\"csv\") \\\n",
    ".option(\"header\", \"true\") \\\n",
    ".schema(order_items_schema) \\\n",
    ".load(\"../data/retail_db/order_items/\")"
   ]
  },
  {
   "cell_type": "code",
   "execution_count": 19,
   "id": "dfebc287",
   "metadata": {},
   "outputs": [],
   "source": [
    "order_items_df.createOrReplaceTempView(\"order_items\")"
   ]
  },
  {
   "cell_type": "code",
   "execution_count": 20,
   "id": "6f090239",
   "metadata": {},
   "outputs": [],
   "source": [
    "customers_schema = \"customerid long,customer_fname string,customer_lname string,username string,password string,address string,city string,state string,pincode long\""
   ]
  },
  {
   "cell_type": "code",
   "execution_count": 26,
   "id": "f28d8463",
   "metadata": {},
   "outputs": [],
   "source": [
    "customers_df =  spark.read \\\n",
    ".format(\"csv\") \\\n",
    ".option(\"header\", \"true\") \\\n",
    ".schema(customers_schema) \\\n",
    ".load(\"../data/retail_db/customers\")"
   ]
  },
  {
   "cell_type": "code",
   "execution_count": 27,
   "id": "e330dcba",
   "metadata": {},
   "outputs": [],
   "source": [
    "customers_df.createOrReplaceTempView(\"customers\")"
   ]
  },
  {
   "cell_type": "code",
   "execution_count": 23,
   "id": "919add6d",
   "metadata": {},
   "outputs": [
    {
     "name": "stdout",
     "output_type": "stream",
     "text": [
      "+--------+--------------------+-----------+---------------+\n",
      "|order_id|          order_date|customer_id|   order_status|\n",
      "+--------+--------------------+-----------+---------------+\n",
      "|       1|2013-07-25 00:00:...|      11599|         CLOSED|\n",
      "|       2|2013-07-25 00:00:...|        256|PENDING_PAYMENT|\n",
      "|       3|2013-07-25 00:00:...|      12111|       COMPLETE|\n",
      "|       4|2013-07-25 00:00:...|       8827|         CLOSED|\n",
      "|       5|2013-07-25 00:00:...|      11318|       COMPLETE|\n",
      "|       6|2013-07-25 00:00:...|       7130|       COMPLETE|\n",
      "|       7|2013-07-25 00:00:...|       4530|       COMPLETE|\n",
      "|       8|2013-07-25 00:00:...|       2911|     PROCESSING|\n",
      "|       9|2013-07-25 00:00:...|       5657|PENDING_PAYMENT|\n",
      "|      10|2013-07-25 00:00:...|       5648|PENDING_PAYMENT|\n",
      "+--------+--------------------+-----------+---------------+\n",
      "\n"
     ]
    }
   ],
   "source": [
    "spark.sql(\"select * from orders limit 10\").show()"
   ]
  },
  {
   "cell_type": "code",
   "execution_count": 24,
   "id": "482eff9a",
   "metadata": {},
   "outputs": [
    {
     "name": "stdout",
     "output_type": "stream",
     "text": [
      "+-------------+-------------------+---------------------+-------------------+-------------------+------------------------+\n",
      "|order_item_id|order_item_order_id|order_item_product_id|order_item_quantity|order_item_subtotal|order_item_product_price|\n",
      "+-------------+-------------------+---------------------+-------------------+-------------------+------------------------+\n",
      "|            1|                  1|                  957|                  1|             299.98|                  299.98|\n",
      "|            2|                  2|                 1073|                  1|             199.99|                  199.99|\n",
      "|            3|                  2|                  502|                  5|              250.0|                    50.0|\n",
      "|            4|                  2|                  403|                  1|             129.99|                  129.99|\n",
      "|            5|                  4|                  897|                  2|              49.98|                   24.99|\n",
      "|            6|                  4|                  365|                  5|             299.95|                   59.99|\n",
      "|            7|                  4|                  502|                  3|              150.0|                    50.0|\n",
      "|            8|                  4|                 1014|                  4|             199.92|                   49.98|\n",
      "|            9|                  5|                  957|                  1|             299.98|                  299.98|\n",
      "|           10|                  5|                  365|                  5|             299.95|                   59.99|\n",
      "+-------------+-------------------+---------------------+-------------------+-------------------+------------------------+\n",
      "\n"
     ]
    }
   ],
   "source": [
    "spark.sql(\"select * from order_items limit 10\").show()"
   ]
  },
  {
   "cell_type": "code",
   "execution_count": 28,
   "id": "4ee30d6b",
   "metadata": {},
   "outputs": [
    {
     "name": "stdout",
     "output_type": "stream",
     "text": [
      "+----------+--------------+--------------+---------+---------+--------------------+-----------+-----+-------+\n",
      "|customerid|customer_fname|customer_lname| username| password|             address|       city|state|pincode|\n",
      "+----------+--------------+--------------+---------+---------+--------------------+-----------+-----+-------+\n",
      "|         1|       Richard|     Hernandez|XXXXXXXXX|XXXXXXXXX|  6303 Heather Plaza|Brownsville|   TX|  78521|\n",
      "|         2|          Mary|       Barrett|XXXXXXXXX|XXXXXXXXX|9526 Noble Embers...|  Littleton|   CO|  80126|\n",
      "|         3|           Ann|         Smith|XXXXXXXXX|XXXXXXXXX|3422 Blue Pioneer...|     Caguas|   PR|    725|\n",
      "|         4|          Mary|         Jones|XXXXXXXXX|XXXXXXXXX|  8324 Little Common| San Marcos|   CA|  92069|\n",
      "|         5|        Robert|        Hudson|XXXXXXXXX|XXXXXXXXX|10 Crystal River ...|     Caguas|   PR|    725|\n",
      "|         6|          Mary|         Smith|XXXXXXXXX|XXXXXXXXX|3151 Sleepy Quail...|    Passaic|   NJ|   7055|\n",
      "|         7|       Melissa|        Wilcox|XXXXXXXXX|XXXXXXXXX|9453 High Concession|     Caguas|   PR|    725|\n",
      "|        10|       Melissa|         Smith|XXXXXXXXX|XXXXXXXXX|8598 Harvest Beac...|   Stafford|   VA|  22554|\n",
      "|        11|          Mary|       Huffman|XXXXXXXXX|XXXXXXXXX|    3169 Stony Woods|     Caguas|   PR|    725|\n",
      "|        12|   Christopher|         Smith|XXXXXXXXX|XXXXXXXXX|5594 Jagged Ember...|San Antonio|   TX|  78227|\n",
      "+----------+--------------+--------------+---------+---------+--------------------+-----------+-----+-------+\n",
      "\n"
     ]
    }
   ],
   "source": [
    "spark.sql(\"select * from customers limit 10\").show()"
   ]
  },
  {
   "cell_type": "code",
   "execution_count": 29,
   "id": "8311ed8c",
   "metadata": {},
   "outputs": [
    {
     "name": "stdout",
     "output_type": "stream",
     "text": [
      "+--------+-------------+-----------+---------------------+-------------------+-------------------+------------------------+--------------+--------------+-----------+-----+-------+\n",
      "|order_id|order_item_id|customer_id|order_item_product_id|order_item_quantity|order_item_subtotal|order_item_product_price|customer_fname|customer_lname|       city|state|pincode|\n",
      "+--------+-------------+-----------+---------------------+-------------------+-------------------+------------------------+--------------+--------------+-----------+-----+-------+\n",
      "|       1|            1|      11599|                  957|                  1|             299.98|                  299.98|          Mary|        Malone|    Hickory|   NC|  28601|\n",
      "|       2|            2|        256|                 1073|                  1|             199.99|                  199.99|         David|     Rodriguez|    Chicago|   IL|  60625|\n",
      "|       2|            3|        256|                  502|                  5|              250.0|                    50.0|         David|     Rodriguez|    Chicago|   IL|  60625|\n",
      "|       2|            4|        256|                  403|                  1|             129.99|                  129.99|         David|     Rodriguez|    Chicago|   IL|  60625|\n",
      "|       4|            5|       8827|                  897|                  2|              49.98|                   24.99|         Brian|        Wilson|San Antonio|   TX|  78240|\n",
      "|       4|            6|       8827|                  365|                  5|             299.95|                   59.99|         Brian|        Wilson|San Antonio|   TX|  78240|\n",
      "|       4|            7|       8827|                  502|                  3|              150.0|                    50.0|         Brian|        Wilson|San Antonio|   TX|  78240|\n",
      "|       4|            8|       8827|                 1014|                  4|             199.92|                   49.98|         Brian|        Wilson|San Antonio|   TX|  78240|\n",
      "|       5|            9|      11318|                  957|                  1|             299.98|                  299.98|          Mary|         Henry|     Caguas|   PR|    725|\n",
      "|       5|           10|      11318|                  365|                  5|             299.95|                   59.99|          Mary|         Henry|     Caguas|   PR|    725|\n",
      "|       5|           11|      11318|                 1014|                  2|              99.96|                   49.98|          Mary|         Henry|     Caguas|   PR|    725|\n",
      "|       5|           12|      11318|                  957|                  1|             299.98|                  299.98|          Mary|         Henry|     Caguas|   PR|    725|\n",
      "|       5|           13|      11318|                  403|                  1|             129.99|                  129.99|          Mary|         Henry|     Caguas|   PR|    725|\n",
      "|       7|           14|       4530|                 1073|                  1|             199.99|                  199.99|          Mary|         Smith|      Miami|   FL|  33161|\n",
      "|       7|           15|       4530|                  957|                  1|             299.98|                  299.98|          Mary|         Smith|      Miami|   FL|  33161|\n",
      "|       7|           16|       4530|                  926|                  5|              79.95|                   15.99|          Mary|         Smith|      Miami|   FL|  33161|\n",
      "|       8|           17|       2911|                  365|                  3|             179.97|                   59.99|          Mary|         Smith|     Caguas|   PR|    725|\n",
      "|       8|           18|       2911|                  365|                  5|             299.95|                   59.99|          Mary|         Smith|     Caguas|   PR|    725|\n",
      "|       8|           19|       2911|                 1014|                  4|             199.92|                   49.98|          Mary|         Smith|     Caguas|   PR|    725|\n",
      "|       8|           20|       2911|                  502|                  1|               50.0|                    50.0|          Mary|         Smith|     Caguas|   PR|    725|\n",
      "+--------+-------------+-----------+---------------------+-------------------+-------------------+------------------------+--------------+--------------+-----------+-----+-------+\n",
      "only showing top 20 rows\n",
      "\n"
     ]
    }
   ],
   "source": [
    "spark.sql(\"\"\"SELECT order_id, order_item_id, customer_id, order_item_product_id, order_item_quantity, order_item_subtotal, order_item_product_price, customer_fname, customer_lname, city, state, pincode\n",
    "FROM orders\n",
    "JOIN order_items ON orders.order_id = order_items.order_item_order_id\n",
    "JOIN customers ON orders.customer_id = customers.customerid\"\"\").show()"
   ]
  },
  {
   "cell_type": "code",
   "execution_count": 31,
   "id": "dc689a62",
   "metadata": {},
   "outputs": [],
   "source": [
    "joined_df = spark.sql(\"\"\"SELECT order_id, order_item_id, customer_id, order_item_product_id, order_item_quantity, order_item_subtotal, order_item_product_price, customer_fname, customer_lname, city, state, pincode\n",
    "FROM orders\n",
    "JOIN order_items ON orders.order_id = order_items.order_item_order_id\n",
    "JOIN customers ON orders.customer_id = customers.customerid\"\"\")"
   ]
  },
  {
   "cell_type": "code",
   "execution_count": 35,
   "id": "994ff8f2",
   "metadata": {},
   "outputs": [],
   "source": [
    "from pyspark.sql.functions import *"
   ]
  },
  {
   "cell_type": "code",
   "execution_count": 36,
   "id": "ba77e604",
   "metadata": {},
   "outputs": [],
   "source": [
    "result_df = joined_df.groupBy(\"order_id\",\"customer_id\",\"customer_fname\",\"customer_lname\",\"city\",\"state\",\"pincode\").agg(collect_list(struct(\"order_item_id\", \"order_item_product_id\",\"order_item_quantity\",\"order_item_product_price\",\"order_item_subtotal\")).alias(\"line_items\")).orderBy(\"order_id\")"
   ]
  },
  {
   "cell_type": "code",
   "execution_count": 37,
   "id": "d574c46e",
   "metadata": {},
   "outputs": [
    {
     "name": "stdout",
     "output_type": "stream",
     "text": [
      "+--------+-----------+--------------+--------------+-------------+-----+-------+-----------------------------------------------------------------------------------------------------------------------------------------------------+\n",
      "|order_id|customer_id|customer_fname|customer_lname|city         |state|pincode|line_items                                                                                                                                           |\n",
      "+--------+-----------+--------------+--------------+-------------+-----+-------+-----------------------------------------------------------------------------------------------------------------------------------------------------+\n",
      "|1       |11599      |Mary          |Malone        |Hickory      |NC   |28601  |[{1, 957, 1, 299.98, 299.98}]                                                                                                                        |\n",
      "|2       |256        |David         |Rodriguez     |Chicago      |IL   |60625  |[{2, 1073, 1, 199.99, 199.99}, {3, 502, 5, 50.0, 250.0}, {4, 403, 1, 129.99, 129.99}]                                                                |\n",
      "|4       |8827       |Brian         |Wilson        |San Antonio  |TX   |78240  |[{5, 897, 2, 24.99, 49.98}, {6, 365, 5, 59.99, 299.95}, {7, 502, 3, 50.0, 150.0}, {8, 1014, 4, 49.98, 199.92}]                                       |\n",
      "|5       |11318      |Mary          |Henry         |Caguas       |PR   |725    |[{9, 957, 1, 299.98, 299.98}, {10, 365, 5, 59.99, 299.95}, {11, 1014, 2, 49.98, 99.96}, {12, 957, 1, 299.98, 299.98}, {13, 403, 1, 129.99, 129.99}]  |\n",
      "|7       |4530       |Mary          |Smith         |Miami        |FL   |33161  |[{14, 1073, 1, 199.99, 199.99}, {15, 957, 1, 299.98, 299.98}, {16, 926, 5, 15.99, 79.95}]                                                            |\n",
      "|8       |2911       |Mary          |Smith         |Caguas       |PR   |725    |[{17, 365, 3, 59.99, 179.97}, {18, 365, 5, 59.99, 299.95}, {19, 1014, 4, 49.98, 199.92}, {20, 502, 1, 50.0, 50.0}]                                   |\n",
      "|9       |5657       |Mary          |James         |Lakewood     |OH   |44107  |[{21, 191, 2, 99.99, 199.98}, {22, 1073, 1, 199.99, 199.99}, {23, 1073, 1, 199.99, 199.99}]                                                          |\n",
      "|10      |5648       |Joshua        |Smith         |Memphis      |TN   |38111  |[{24, 1073, 1, 199.99, 199.99}, {25, 1014, 2, 49.98, 99.96}, {26, 403, 1, 129.99, 129.99}, {27, 917, 1, 21.99, 21.99}, {28, 1073, 1, 199.99, 199.99}]|\n",
      "|11      |918        |Nathan        |Smith         |Caguas       |PR   |725    |[{29, 365, 1, 59.99, 59.99}, {30, 627, 4, 39.99, 159.96}, {31, 1014, 1, 49.98, 49.98}, {32, 191, 4, 99.99, 399.96}, {33, 1014, 5, 49.98, 249.9}]     |\n",
      "|12      |1837       |Mary          |Vega          |Caguas       |PR   |725    |[{34, 957, 1, 299.98, 299.98}, {35, 134, 4, 25.0, 100.0}, {36, 1014, 3, 49.98, 149.94}, {37, 191, 5, 99.99, 499.95}, {38, 502, 5, 50.0, 250.0}]      |\n",
      "|13      |9149       |Ronald        |Whitehead     |Santa Ana    |CA   |92705  |[{39, 276, 4, 31.99, 127.96}]                                                                                                                        |\n",
      "|14      |9842       |Mary          |Smith         |Caguas       |PR   |725    |[{40, 1004, 1, 399.98, 399.98}, {41, 1014, 2, 49.98, 99.96}, {42, 502, 1, 50.0, 50.0}]                                                               |\n",
      "|15      |2568       |Maria         |Smith         |Memphis      |TN   |38127  |[{43, 502, 1, 50.0, 50.0}, {44, 1073, 1, 199.99, 199.99}, {45, 828, 3, 31.99, 95.97}, {46, 365, 3, 59.99, 179.97}, {47, 1004, 1, 399.98, 399.98}]    |\n",
      "|16      |7276       |Pamela        |Smith         |Caguas       |PR   |725    |[{48, 365, 2, 59.99, 119.98}, {49, 365, 5, 59.99, 299.95}]                                                                                           |\n",
      "|17      |2667       |Tammy         |Smith         |Sun Valley   |CA   |91352  |[{50, 810, 4, 19.99, 79.96}, {51, 1014, 2, 49.98, 99.96}, {52, 93, 3, 24.99, 74.97}, {53, 1073, 1, 199.99, 199.99}, {54, 365, 4, 59.99, 239.96}]     |\n",
      "|18      |1205       |Mary          |Powell        |Miami        |FL   |33126  |[{55, 1073, 1, 199.99, 199.99}, {56, 365, 2, 59.99, 119.98}, {57, 403, 1, 129.99, 129.99}]                                                           |\n",
      "|19      |9488       |Mary          |Smith         |Hialeah      |FL   |33012  |[{58, 1004, 1, 399.98, 399.98}, {59, 957, 1, 299.98, 299.98}]                                                                                        |\n",
      "|20      |9198       |David         |Kerr          |Bowling Green|KY   |42101  |[{60, 502, 5, 50.0, 250.0}, {61, 1014, 4, 49.98, 199.92}, {62, 403, 1, 129.99, 129.99}, {63, 365, 5, 59.99, 299.95}]                                 |\n",
      "|21      |2711       |Alice         |Rodriguez     |Bronx        |NY   |10460  |[{64, 897, 3, 24.99, 74.97}, {65, 276, 4, 31.99, 127.96}, {66, 37, 2, 34.99, 69.98}, {67, 502, 2, 50.0, 100.0}]                                      |\n",
      "|23      |4367       |Danielle      |Moran         |Springfield  |MO   |65807  |[{68, 957, 1, 299.98, 299.98}]                                                                                                                       |\n",
      "+--------+-----------+--------------+--------------+-------------+-----+-------+-----------------------------------------------------------------------------------------------------------------------------------------------------+\n",
      "only showing top 20 rows\n",
      "\n"
     ]
    }
   ],
   "source": [
    "result_df.show(20,False)"
   ]
  },
  {
   "cell_type": "code",
   "execution_count": 38,
   "id": "bbeee4d0",
   "metadata": {},
   "outputs": [],
   "source": [
    "result_df \\\n",
    ".repartition(1) \\\n",
    ".write \\\n",
    ".format(\"json\") \\\n",
    ".mode(\"overwrite\") \\\n",
    ".option(\"path\",\"../data/retail_db/data_json_orders\") \\\n",
    ".save()"
   ]
  },
  {
   "cell_type": "code",
   "execution_count": null,
   "id": "7811813a",
   "metadata": {},
   "outputs": [],
   "source": [
    "spark.stop()"
   ]
  }
 ],
 "metadata": {
  "kernelspec": {
   "display_name": "base",
   "language": "python",
   "name": "python3"
  },
  "language_info": {
   "codemirror_mode": {
    "name": "ipython",
    "version": 3
   },
   "file_extension": ".py",
   "mimetype": "text/x-python",
   "name": "python",
   "nbconvert_exporter": "python",
   "pygments_lexer": "ipython3",
   "version": "3.10.6"
  }
 },
 "nbformat": 4,
 "nbformat_minor": 5
}
