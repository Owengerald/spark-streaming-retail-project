{
 "cells": [
  {
   "cell_type": "code",
   "execution_count": 24,
   "id": "7bad0774",
   "metadata": {},
   "outputs": [],
   "source": [
    "from pyspark.sql.functions import *\n",
    "from pyspark.sql import SparkSession\n",
    "\n",
    "spark = SparkSession.builder \\\n",
    "        .appName(\"spark batch processing application\") \\\n",
    "        .config(\"spark.sql.shuffle.partitions\",3) \\\n",
    "        .master(\"local[2]\") \\\n",
    "        .getOrCreate()"
   ]
  },
  {
   "cell_type": "code",
   "execution_count": 25,
   "id": "9651ba2f",
   "metadata": {},
   "outputs": [],
   "source": [
    "from pyspark.sql.functions import *"
   ]
  },
  {
   "cell_type": "code",
   "execution_count": 26,
   "id": "d27d3d54",
   "metadata": {},
   "outputs": [],
   "source": [
    "orders_schema = \"order_id long,customer_id long,customer_fname string,customer_lname string,city string,state string,pincode long,line_items array<struct<order_item_id: long,order_item_product_id: long,order_item_quantity: long,order_item_product_price: float,order_item_subtotal: float>>\""
   ]
  },
  {
   "cell_type": "code",
   "execution_count": 27,
   "id": "1aaf520e",
   "metadata": {},
   "outputs": [],
   "source": [
    "orders_df = spark \\\n",
    ".read \\\n",
    ".format(\"json\") \\\n",
    ".schema(orders_schema) \\\n",
    ".option(\"path\",\"../data/retail_db/data_json_orders\") \\\n",
    ".load()"
   ]
  },
  {
   "cell_type": "code",
   "execution_count": 28,
   "id": "760058a0",
   "metadata": {},
   "outputs": [],
   "source": [
    "orders_df.createOrReplaceTempView(\"orders\")\n",
    "   "
   ]
  },
  {
   "cell_type": "code",
   "execution_count": 29,
   "id": "def062c8",
   "metadata": {},
   "outputs": [
    {
     "name": "stdout",
     "output_type": "stream",
     "text": [
      "+--------+-----------+--------------+--------------+-------------+-----+-------+--------------------+\n",
      "|order_id|customer_id|customer_fname|customer_lname|         city|state|pincode|          line_items|\n",
      "+--------+-----------+--------------+--------------+-------------+-----+-------+--------------------+\n",
      "|       1|      11599|          Mary|        Malone|      Hickory|   NC|  28601|[{1, 957, 1, 299....|\n",
      "|       2|        256|         David|     Rodriguez|      Chicago|   IL|  60625|[{2, 1073, 1, 199...|\n",
      "|       4|       8827|         Brian|        Wilson|  San Antonio|   TX|  78240|[{5, 897, 2, 24.9...|\n",
      "|       5|      11318|          Mary|         Henry|       Caguas|   PR|    725|[{9, 957, 1, 299....|\n",
      "|       7|       4530|          Mary|         Smith|        Miami|   FL|  33161|[{14, 1073, 1, 19...|\n",
      "|       8|       2911|          Mary|         Smith|       Caguas|   PR|    725|[{17, 365, 3, 59....|\n",
      "|       9|       5657|          Mary|         James|     Lakewood|   OH|  44107|[{21, 191, 2, 99....|\n",
      "|      10|       5648|        Joshua|         Smith|      Memphis|   TN|  38111|[{24, 1073, 1, 19...|\n",
      "|      11|        918|        Nathan|         Smith|       Caguas|   PR|    725|[{29, 365, 1, 59....|\n",
      "|      12|       1837|          Mary|          Vega|       Caguas|   PR|    725|[{34, 957, 1, 299...|\n",
      "|      13|       9149|        Ronald|     Whitehead|    Santa Ana|   CA|  92705|[{39, 276, 4, 31....|\n",
      "|      14|       9842|          Mary|         Smith|       Caguas|   PR|    725|[{40, 1004, 1, 39...|\n",
      "|      15|       2568|         Maria|         Smith|      Memphis|   TN|  38127|[{43, 502, 1, 50....|\n",
      "|      16|       7276|        Pamela|         Smith|       Caguas|   PR|    725|[{48, 365, 2, 59....|\n",
      "|      17|       2667|         Tammy|         Smith|   Sun Valley|   CA|  91352|[{50, 810, 4, 19....|\n",
      "|      18|       1205|          Mary|        Powell|        Miami|   FL|  33126|[{55, 1073, 1, 19...|\n",
      "|      19|       9488|          Mary|         Smith|      Hialeah|   FL|  33012|[{58, 1004, 1, 39...|\n",
      "|      20|       9198|         David|          Kerr|Bowling Green|   KY|  42101|[{60, 502, 5, 50....|\n",
      "|      21|       2711|         Alice|     Rodriguez|        Bronx|   NY|  10460|[{64, 897, 3, 24....|\n",
      "|      23|       4367|      Danielle|         Moran|  Springfield|   MO|  65807|[{68, 957, 1, 299...|\n",
      "+--------+-----------+--------------+--------------+-------------+-----+-------+--------------------+\n",
      "only showing top 20 rows\n",
      "\n"
     ]
    }
   ],
   "source": [
    "spark.sql(\"select * from orders\").show()"
   ]
  },
  {
   "cell_type": "code",
   "execution_count": 30,
   "id": "6e95cd8c",
   "metadata": {},
   "outputs": [],
   "source": [
    "exploded_orders = spark.sql(\"\"\"select order_id,customer_id,city,state,\n",
    "pincode,explode(line_items) lines from orders\"\"\")"
   ]
  },
  {
   "cell_type": "code",
   "execution_count": 31,
   "id": "2b5fbe75",
   "metadata": {},
   "outputs": [
    {
     "name": "stdout",
     "output_type": "stream",
     "text": [
      "+--------+-----------+-----------+-----+-------+--------------------+\n",
      "|order_id|customer_id|       city|state|pincode|               lines|\n",
      "+--------+-----------+-----------+-----+-------+--------------------+\n",
      "|       1|      11599|    Hickory|   NC|  28601|{1, 957, 1, 299.9...|\n",
      "|       2|        256|    Chicago|   IL|  60625|{2, 1073, 1, 199....|\n",
      "|       2|        256|    Chicago|   IL|  60625|{3, 502, 5, 50.0,...|\n",
      "|       2|        256|    Chicago|   IL|  60625|{4, 403, 1, 129.9...|\n",
      "|       4|       8827|San Antonio|   TX|  78240|{5, 897, 2, 24.99...|\n",
      "|       4|       8827|San Antonio|   TX|  78240|{6, 365, 5, 59.99...|\n",
      "|       4|       8827|San Antonio|   TX|  78240|{7, 502, 3, 50.0,...|\n",
      "|       4|       8827|San Antonio|   TX|  78240|{8, 1014, 4, 49.9...|\n",
      "|       5|      11318|     Caguas|   PR|    725|{9, 957, 1, 299.9...|\n",
      "|       5|      11318|     Caguas|   PR|    725|{10, 365, 5, 59.9...|\n",
      "|       5|      11318|     Caguas|   PR|    725|{11, 1014, 2, 49....|\n",
      "|       5|      11318|     Caguas|   PR|    725|{12, 957, 1, 299....|\n",
      "|       5|      11318|     Caguas|   PR|    725|{13, 403, 1, 129....|\n",
      "|       7|       4530|      Miami|   FL|  33161|{14, 1073, 1, 199...|\n",
      "|       7|       4530|      Miami|   FL|  33161|{15, 957, 1, 299....|\n",
      "|       7|       4530|      Miami|   FL|  33161|{16, 926, 5, 15.9...|\n",
      "|       8|       2911|     Caguas|   PR|    725|{17, 365, 3, 59.9...|\n",
      "|       8|       2911|     Caguas|   PR|    725|{18, 365, 5, 59.9...|\n",
      "|       8|       2911|     Caguas|   PR|    725|{19, 1014, 4, 49....|\n",
      "|       8|       2911|     Caguas|   PR|    725|{20, 502, 1, 50.0...|\n",
      "+--------+-----------+-----------+-----+-------+--------------------+\n",
      "only showing top 20 rows\n",
      "\n"
     ]
    }
   ],
   "source": [
    "exploded_orders.show()"
   ]
  },
  {
   "cell_type": "code",
   "execution_count": 32,
   "id": "db471a3e",
   "metadata": {},
   "outputs": [],
   "source": [
    "exploded_orders.createOrReplaceTempView(\"exploded_orders\")"
   ]
  },
  {
   "cell_type": "code",
   "execution_count": 33,
   "id": "d39071da",
   "metadata": {},
   "outputs": [],
   "source": [
    "flattened_orders = spark.sql(\"\"\"select order_id, customer_id, city, state, pincode, \n",
    "lines.order_item_id as item_id, lines.order_item_product_id as product_id,\n",
    "lines.order_item_quantity as quantity,lines.order_item_product_price as price,\n",
    "lines.order_item_subtotal as subtotal from exploded_orders\"\"\")"
   ]
  },
  {
   "cell_type": "code",
   "execution_count": 34,
   "id": "2ec50c18",
   "metadata": {},
   "outputs": [
    {
     "name": "stdout",
     "output_type": "stream",
     "text": [
      "+--------+-----------+-----------+-----+-------+-------+----------+--------+------+--------+\n",
      "|order_id|customer_id|       city|state|pincode|item_id|product_id|quantity| price|subtotal|\n",
      "+--------+-----------+-----------+-----+-------+-------+----------+--------+------+--------+\n",
      "|       1|      11599|    Hickory|   NC|  28601|      1|       957|       1|299.98|  299.98|\n",
      "|       2|        256|    Chicago|   IL|  60625|      2|      1073|       1|199.99|  199.99|\n",
      "|       2|        256|    Chicago|   IL|  60625|      3|       502|       5|  50.0|   250.0|\n",
      "|       2|        256|    Chicago|   IL|  60625|      4|       403|       1|129.99|  129.99|\n",
      "|       4|       8827|San Antonio|   TX|  78240|      5|       897|       2| 24.99|   49.98|\n",
      "|       4|       8827|San Antonio|   TX|  78240|      6|       365|       5| 59.99|  299.95|\n",
      "|       4|       8827|San Antonio|   TX|  78240|      7|       502|       3|  50.0|   150.0|\n",
      "|       4|       8827|San Antonio|   TX|  78240|      8|      1014|       4| 49.98|  199.92|\n",
      "|       5|      11318|     Caguas|   PR|    725|      9|       957|       1|299.98|  299.98|\n",
      "|       5|      11318|     Caguas|   PR|    725|     10|       365|       5| 59.99|  299.95|\n",
      "|       5|      11318|     Caguas|   PR|    725|     11|      1014|       2| 49.98|   99.96|\n",
      "|       5|      11318|     Caguas|   PR|    725|     12|       957|       1|299.98|  299.98|\n",
      "|       5|      11318|     Caguas|   PR|    725|     13|       403|       1|129.99|  129.99|\n",
      "|       7|       4530|      Miami|   FL|  33161|     14|      1073|       1|199.99|  199.99|\n",
      "|       7|       4530|      Miami|   FL|  33161|     15|       957|       1|299.98|  299.98|\n",
      "|       7|       4530|      Miami|   FL|  33161|     16|       926|       5| 15.99|   79.95|\n",
      "|       8|       2911|     Caguas|   PR|    725|     17|       365|       3| 59.99|  179.97|\n",
      "|       8|       2911|     Caguas|   PR|    725|     18|       365|       5| 59.99|  299.95|\n",
      "|       8|       2911|     Caguas|   PR|    725|     19|      1014|       4| 49.98|  199.92|\n",
      "|       8|       2911|     Caguas|   PR|    725|     20|       502|       1|  50.0|    50.0|\n",
      "+--------+-----------+-----------+-----+-------+-------+----------+--------+------+--------+\n",
      "only showing top 20 rows\n",
      "\n"
     ]
    }
   ],
   "source": [
    "flattened_orders.show()"
   ]
  },
  {
   "cell_type": "code",
   "execution_count": 35,
   "id": "04ca5e9f",
   "metadata": {},
   "outputs": [],
   "source": [
    "flattened_orders.createOrReplaceTempView(\"orders_flattened\")"
   ]
  },
  {
   "cell_type": "code",
   "execution_count": 36,
   "id": "e213f381",
   "metadata": {},
   "outputs": [],
   "source": [
    "aggregated_orders = spark.sql(\"\"\"select customer_id, count(distinct(order_id)) as orders_placed, \n",
    "count(item_id) as products_purchased,sum(subtotal) as amount_spent \n",
    "from orders_flattened group by customer_id\"\"\")"
   ]
  },
  {
   "cell_type": "code",
   "execution_count": 37,
   "id": "8193aae6",
   "metadata": {},
   "outputs": [],
   "source": [
    "aggregated_orders.createOrReplaceTempView(\"orders_aggregated\")"
   ]
  },
  {
   "cell_type": "code",
   "execution_count": 38,
   "id": "e301c115",
   "metadata": {},
   "outputs": [
    {
     "name": "stdout",
     "output_type": "stream",
     "text": [
      "+-----------+-------------+------------------+-----------------+\n",
      "|customer_id|orders_placed|products_purchased|     amount_spent|\n",
      "+-----------+-------------+------------------+-----------------+\n",
      "|        256|           10|                22|4169.480072021484|\n",
      "+-----------+-------------+------------------+-----------------+\n",
      "\n"
     ]
    }
   ],
   "source": [
    "spark.sql(\"select * from orders_aggregated where customer_id = 256\").show()"
   ]
  },
  {
   "cell_type": "code",
   "execution_count": 39,
   "id": "277ee40a",
   "metadata": {},
   "outputs": [],
   "source": [
    "aggregated_orders \\\n",
    ".repartition(1) \\\n",
    ".write \\\n",
    ".format(\"csv\") \\\n",
    ".mode(\"overwrite\") \\\n",
    ".option(\"header\",True) \\\n",
    ".option(\"path\",\"../data/retail_db/json_output_result1\") \\\n",
    ".save()"
   ]
  },
  {
   "cell_type": "code",
   "execution_count": 40,
   "id": "a464ca63",
   "metadata": {},
   "outputs": [],
   "source": [
    "spark.stop()"
   ]
  }
 ],
 "metadata": {
  "kernelspec": {
   "display_name": "base",
   "language": "python",
   "name": "python3"
  },
  "language_info": {
   "codemirror_mode": {
    "name": "ipython",
    "version": 3
   },
   "file_extension": ".py",
   "mimetype": "text/x-python",
   "name": "python",
   "nbconvert_exporter": "python",
   "pygments_lexer": "ipython3",
   "version": "3.10.6"
  }
 },
 "nbformat": 4,
 "nbformat_minor": 5
}
